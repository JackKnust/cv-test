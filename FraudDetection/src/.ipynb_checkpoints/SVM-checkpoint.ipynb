{
 "cells": [
  {
   "cell_type": "code",
   "execution_count": 1,
   "metadata": {},
   "outputs": [],
   "source": [
    "import numpy as np \n",
    "import pandas as pd                #importando os pacotes necessários\n",
    "import matplotlib.pyplot as plt\n",
    "from sklearn.utils import shuffle\n",
    "import pickle"
   ]
  },
  {
   "cell_type": "code",
   "execution_count": 2,
   "metadata": {},
   "outputs": [],
   "source": [
    "data = pd.read_csv(r'~\\FraudDetection\\data\\features.csv', sep='\\t') #lendo csv com os atributos\n",
    "\n",
    "'''\n",
    "Os paremetros do modelo SVM e também os atributos selecionados, foram escolhidos a partir de um\n",
    "pipe line que eu desenvolvi para o meu projeto de faculdade onde eu eu utilizo uma abordagem exaustiva\n",
    "que permuta as variaveis e retorna a configuração que obteve a melhor acurácia\n",
    "'''\n",
    "\n",
    "#definindo os atributos que serão utilizados na análise\n",
    "features = ['0_cx_img', '1_cy_img', '2_area_img', '3_perim_img', '4_hulls_img',\n",
    "            '5_cx_g1', '6_cy_g1', '7_area_g1', '8_perim_g1', '9_hulls_g1',\n",
    "            '10_cx_g2', '11_cy_g2', '13_perim_g2', '14_hulls_g2', '16_cy_g3',\n",
    "            '17_area_g3', '18_perim_g3', '21_cy_g4', '22_area_g4',\n",
    "            '23_perim_g4', '24_hulls_g4', '25_class']\n",
    "\n",
    "data_new = data.loc[:,features]\n",
    "\n",
    "#embaralhando a base de dados para evitar enviesamento\n",
    "data_new = shuffle(data_new, random_state=123)\n",
    "\n",
    "#Subistituindo as classes de letra por numeros, pois o sklearn só aceita classes numéricas\n",
    "data_new = data_new.apply(lambda x: x.replace('G', 0), axis=1) #Genuine = 0\n",
    "data_new = data_new.apply(lambda x: x.replace('F', 1), axis=1) #Forged = 1\n",
    "data_new = data_new.apply(lambda x: x.replace('D', 2), axis=1) #Disguise = 2\n",
    "\n",
    "#convertendo os valores em float\n",
    "data_np = data_new.astype(np.float64).values\n",
    "\n",
    "#selecionando as colunas de atributos\n",
    "X_raw = data_np[:,:-1] \n",
    "\n",
    "#selecionando a coluna de classe\n",
    "y = data_np[:,-1]\n",
    "\n",
    "classes = [0.0,1.0,2.0]\n"
   ]
  },
  {
   "cell_type": "code",
   "execution_count": 3,
   "metadata": {},
   "outputs": [],
   "source": [
    "from sklearn import preprocessing as prep \n",
    "MinMaxScaler = prep.MinMaxScaler((0,1))\n",
    "\n",
    "'''\n",
    "Como normalização foi utilizado o método de MinMax\n",
    "'''\n",
    "\n",
    "def rescaling(X_r0):\n",
    "\tX_r1 = MinMaxScaler.fit_transform(X_r0)\n",
    "\treturn X_r1"
   ]
  },
  {
   "cell_type": "code",
   "execution_count": 4,
   "metadata": {},
   "outputs": [],
   "source": [
    "from sklearn.svm import SVC\n",
    "from sklearn.model_selection import KFold\n",
    "from sklearn.metrics import confusion_matrix   #importando os pacotes necessários\n",
    "from sklearn.metrics import auc\n",
    "from sklearn.metrics import roc_curve\n",
    "from scipy import interp\n",
    "from sklearn.metrics import accuracy_score\n",
    "from sklearn.metrics import classification_report"
   ]
  },
  {
   "cell_type": "code",
   "execution_count": 5,
   "metadata": {},
   "outputs": [],
   "source": [
    "'''\n",
    "Função que executa o classificador SVM utilizando toda a base como treino/teste através da abordagem de cross validation.\n",
    "O número de folds foi fixado em 20\n",
    "\n",
    "'''\n",
    "def run():\n",
    "    \n",
    "    classifier = SVC(kernel='rbf', C=10, gamma=1, probability=True)\n",
    "    classifier_name = \"SVM\"\n",
    "    \n",
    "    #normalizando\n",
    "    X = rescaling(X_raw)\n",
    "    \n",
    "    #definindo numero de folds\n",
    "    kf = KFold(n_splits=20)\n",
    "    \n",
    "    #concatenando x e y em um unico array para usar o k-fold\n",
    "    dataset = np.column_stack([X,y])\n",
    "    \n",
    "    #vetores de armazenamento\n",
    "    y_pred_vec = []\n",
    "    y_test_vec = []\n",
    "    \n",
    "    #loop que repete o processo para cada fold\n",
    "    for train_indices, test_indices in kf.split(dataset):\n",
    "\n",
    "        X_train = X[train_indices]  #definindo qual instancia será usada como treino e teste\n",
    "        y_train = y[train_indices]  #segundo os índices sorteados pelo kfsplit     \n",
    "        X_test = X[test_indices]       \n",
    "        y_test = y[test_indices]\n",
    "            \n",
    "        classifier.fit(X_train, y_train)       #treinando o modelo              \n",
    "        y_pred = classifier.predict(X_test)    #calssificando o teste\n",
    "        \n",
    "        y_test_vec += list(y_test)  #adicionando as informações de teste e predito aos seus respectivos vetores\n",
    "        y_pred_vec += list(y_pred)\n",
    "    \n",
    "    \n",
    "    acc = accuracy_score(y_test_vec, y_pred_vec) #calculando a acurácia\n",
    "    conf_mat = confusion_matrix(y_test_vec, y_pred_vec, labels=classes) #montando a matriz de confusão\n",
    "    \n",
    "    #impressão da matriz de confusão\n",
    "    print('    G  F  D   <---- Predict as')\n",
    "    print('G',conf_mat[0])\n",
    "    print('F',conf_mat[1])\n",
    "    print('D',conf_mat[2])\n",
    "    print('\\n')\n",
    "    \n",
    "    #impressão da acurácia\n",
    "    print('Accuracy: ', acc)\n",
    "    \n",
    "    #salvando o modelo\n",
    "    model = SVC(kernel='rbf', C=10, gamma=1, probability=True)\n",
    "    model.fit(X_raw, y)\n",
    "    #salvando o modelo em disco\n",
    "    filename = 'finalized_model.sav'\n",
    "    pickle.dump(model, open(filename, 'wb'))\n",
    "    \n",
    "    '''\n",
    "    intruções para carregar o modelo:\n",
    "    \n",
    "    filename = 'finalized_model.sav'\n",
    "    loaded_model = pickle.load(open(filename, 'rb'))\n",
    "    result = loaded_model.score(X_raw, y)\n",
    "    '''\n",
    "    "
   ]
  },
  {
   "cell_type": "code",
   "execution_count": 6,
   "metadata": {},
   "outputs": [
    {
     "name": "stdout",
     "output_type": "stream",
     "text": [
      "    G  F  D   <---- Predict as\n",
      "G [81  4  0]\n",
      "F [10 93  1]\n",
      "D [ 1  0 19]\n",
      "\n",
      "\n",
      "Accuracy:  0.9234449760765551\n"
     ]
    }
   ],
   "source": [
    "if __name__ == \"__main__\":   \n",
    "    \n",
    "    run()"
   ]
  },
  {
   "cell_type": "code",
   "execution_count": null,
   "metadata": {},
   "outputs": [],
   "source": []
  },
  {
   "cell_type": "code",
   "execution_count": null,
   "metadata": {},
   "outputs": [],
   "source": []
  }
 ],
 "metadata": {
  "kernelspec": {
   "display_name": "Python 3",
   "language": "python",
   "name": "python3"
  },
  "language_info": {
   "codemirror_mode": {
    "name": "ipython",
    "version": 3
   },
   "file_extension": ".py",
   "mimetype": "text/x-python",
   "name": "python",
   "nbconvert_exporter": "python",
   "pygments_lexer": "ipython3",
   "version": "3.7.4"
  }
 },
 "nbformat": 4,
 "nbformat_minor": 2
}
