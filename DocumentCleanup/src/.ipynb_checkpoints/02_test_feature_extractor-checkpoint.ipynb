{
 "cells": [
  {
   "cell_type": "code",
   "execution_count": 11,
   "metadata": {},
   "outputs": [
    {
     "data": {
      "text/plain": [
       "\" \\nThis code is exactly like the training feature extraction, however withtout the label class, \\nonce this information is the classification's goal \\n\\n\""
      ]
     },
     "execution_count": 11,
     "metadata": {},
     "output_type": "execute_result"
    }
   ],
   "source": [
    "import numpy as np\n",
    "import cv2\n",
    "import os\n",
    "import csv\n",
    "\n",
    "''' \n",
    "This code is exactly like the training feature extraction, however withtout the label class, \n",
    "once this information is the classification's goal \n",
    "\n",
    "'''"
   ]
  },
  {
   "cell_type": "code",
   "execution_count": 12,
   "metadata": {},
   "outputs": [],
   "source": [
    "def extractor(img, output_path):\n",
    "\n",
    "    (h, w) = img.shape[:2] \n",
    "    roi_sizes = [4,13]\n",
    "    result = []    \n",
    "    \n",
    "    for y in range(0,h):\n",
    "        for x in range(0,w):  \n",
    "                                      \n",
    "            val_vector = []\n",
    "            roi1 = roi_treatment(img, x, y, roi_sizes[0])\n",
    "            roi2 = roi_treatment(img, x, y, roi_sizes[1])\n",
    "            \n",
    "            val_vector.append(roi1.mean())                    \n",
    "            val_vector.append(roi1.max())       \n",
    "            val_vector.append(roi1.min())                    \n",
    "            val_vector.append(roi1.std())\n",
    "            val_vector.append(img[y,x])\n",
    "            val_vector.append(roi1.mean() - img[y,x])\n",
    "            \n",
    "            val_vector.append(roi2.mean())\n",
    "            val_vector.append(roi2.max())\n",
    "            val_vector.append(roi2.min())\n",
    "            val_vector.append(roi2.std())\n",
    "            val_vector.append(roi2.mean() - img[y,x])\n",
    "            \n",
    "            csv_writer(val_vector, output_path)\n",
    "           \n",
    "                \n",
    "    return 0"
   ]
  },
  {
   "cell_type": "code",
   "execution_count": 13,
   "metadata": {},
   "outputs": [],
   "source": [
    "def roi_treatment(img, x, y, roi_size):    \n",
    "    \n",
    "    w = img.shape[1]\n",
    "    h = img.shape[0]\n",
    "    \n",
    "    if(x-roi_size <= 0):\n",
    "        x1 = 0\n",
    "    else:\n",
    "        x1 = x-roi_size\n",
    "        \n",
    "    if(x+roi_size >= w-1):\n",
    "        x2 = w-1\n",
    "    else:\n",
    "        x2 = x+roi_size\n",
    "    \n",
    "    \n",
    "    if(y-roi_size <= 0):\n",
    "        y1 = 0\n",
    "    else:\n",
    "        y1 = y-roi_size\n",
    "        \n",
    "    if(y+roi_size >= h-1):\n",
    "        y2 = h-1\n",
    "    else:\n",
    "        y2 = y+roi_size\n",
    "        \n",
    "    roi = img[y1:y2+1, x1:x2+1]    \n",
    "    \n",
    "    return roi\n",
    "    "
   ]
  },
  {
   "cell_type": "code",
   "execution_count": 14,
   "metadata": {},
   "outputs": [],
   "source": [
    "def csv_writer(val_vector, output_path):\n",
    "    \n",
    "    key_vector = ['mean_roi1','max_roi1','min_roi1','std_roi1','center_pixel_value','loc_std_roi1',\n",
    "                  'mean_roi2','max_roi2','min_roi2','std_roi2','loc_std_roi2']\n",
    "        \n",
    "    if not os.path.exists(output_path):\n",
    "        with open(output_path, 'w+') as f:\n",
    "            for i in range(len(key_vector)):\n",
    "                aux_escrita = str(i)+'_'+str(key_vector[i])\n",
    "                f.write(str(aux_escrita))\n",
    "                if i == len(key_vector)-1:\n",
    "                    #f.write('\\t')\n",
    "                    #f.write('Class')\n",
    "                    f.write('\\n')\n",
    "                else:\n",
    "                    f.write('\\t')\n",
    "            for i in range(len(val_vector)):\n",
    "                f.write(str(val_vector[i]))\n",
    "                if i == len(val_vector)-1:\n",
    "                    f.write('\\n')\n",
    "                else:\n",
    "                    f.write('\\t')\n",
    "    else:\n",
    "        with open(output_path, 'a') as f:\n",
    "            for i in range(len(val_vector)):\n",
    "                f.write(str(val_vector[i]))\n",
    "                if i == len(val_vector)-1:\n",
    "                    f.write('\\n')\n",
    "                else:\n",
    "                    f.write('\\t')"
   ]
  },
  {
   "cell_type": "code",
   "execution_count": 15,
   "metadata": {},
   "outputs": [
    {
     "ename": "KeyboardInterrupt",
     "evalue": "",
     "output_type": "error",
     "traceback": [
      "\u001b[1;31m---------------------------------------------------------------------------\u001b[0m",
      "\u001b[1;31mKeyboardInterrupt\u001b[0m                         Traceback (most recent call last)",
      "\u001b[1;32m<ipython-input-15-9a587d8edcaa>\u001b[0m in \u001b[0;36m<module>\u001b[1;34m\u001b[0m\n\u001b[0;32m     21\u001b[0m \u001b[1;33m\u001b[0m\u001b[0m\n\u001b[0;32m     22\u001b[0m             \u001b[0mimg\u001b[0m \u001b[1;33m=\u001b[0m \u001b[0mcv2\u001b[0m\u001b[1;33m.\u001b[0m\u001b[0mimread\u001b[0m\u001b[1;33m(\u001b[0m\u001b[0mfinal_input_path\u001b[0m\u001b[1;33m,\u001b[0m \u001b[1;36m0\u001b[0m\u001b[1;33m)\u001b[0m\u001b[1;33m\u001b[0m\u001b[1;33m\u001b[0m\u001b[0m\n\u001b[1;32m---> 23\u001b[1;33m             \u001b[0mextractor\u001b[0m\u001b[1;33m(\u001b[0m\u001b[0mimg\u001b[0m\u001b[1;33m,\u001b[0m \u001b[0mfinal_output_path\u001b[0m\u001b[1;33m)\u001b[0m\u001b[1;33m\u001b[0m\u001b[1;33m\u001b[0m\u001b[0m\n\u001b[0m\u001b[0;32m     24\u001b[0m \u001b[1;33m\u001b[0m\u001b[0m\n\u001b[0;32m     25\u001b[0m     \u001b[0mprint\u001b[0m\u001b[1;33m(\u001b[0m\u001b[1;34m'Done!!'\u001b[0m\u001b[1;33m)\u001b[0m\u001b[1;33m\u001b[0m\u001b[1;33m\u001b[0m\u001b[0m\n",
      "\u001b[1;32m<ipython-input-12-d9ed84617166>\u001b[0m in \u001b[0;36mextractor\u001b[1;34m(img, output_path)\u001b[0m\n\u001b[0;32m     25\u001b[0m             \u001b[0mval_vector\u001b[0m\u001b[1;33m.\u001b[0m\u001b[0mappend\u001b[0m\u001b[1;33m(\u001b[0m\u001b[0mroi2\u001b[0m\u001b[1;33m.\u001b[0m\u001b[0mmean\u001b[0m\u001b[1;33m(\u001b[0m\u001b[1;33m)\u001b[0m \u001b[1;33m-\u001b[0m \u001b[0mimg\u001b[0m\u001b[1;33m[\u001b[0m\u001b[0my\u001b[0m\u001b[1;33m,\u001b[0m\u001b[0mx\u001b[0m\u001b[1;33m]\u001b[0m\u001b[1;33m)\u001b[0m\u001b[1;33m\u001b[0m\u001b[1;33m\u001b[0m\u001b[0m\n\u001b[0;32m     26\u001b[0m \u001b[1;33m\u001b[0m\u001b[0m\n\u001b[1;32m---> 27\u001b[1;33m             \u001b[0mcsv_writer\u001b[0m\u001b[1;33m(\u001b[0m\u001b[0mval_vector\u001b[0m\u001b[1;33m,\u001b[0m \u001b[0moutput_path\u001b[0m\u001b[1;33m)\u001b[0m\u001b[1;33m\u001b[0m\u001b[1;33m\u001b[0m\u001b[0m\n\u001b[0m\u001b[0;32m     28\u001b[0m \u001b[1;33m\u001b[0m\u001b[0m\n\u001b[0;32m     29\u001b[0m \u001b[1;33m\u001b[0m\u001b[0m\n",
      "\u001b[1;32m<ipython-input-14-e68bdffe2671>\u001b[0m in \u001b[0;36mcsv_writer\u001b[1;34m(val_vector, output_path)\u001b[0m\n\u001b[0;32m      4\u001b[0m                   'mean_roi2','max_roi2','min_roi2','std_roi2','loc_std_roi2']\n\u001b[0;32m      5\u001b[0m \u001b[1;33m\u001b[0m\u001b[0m\n\u001b[1;32m----> 6\u001b[1;33m     \u001b[1;32mif\u001b[0m \u001b[1;32mnot\u001b[0m \u001b[0mos\u001b[0m\u001b[1;33m.\u001b[0m\u001b[0mpath\u001b[0m\u001b[1;33m.\u001b[0m\u001b[0mexists\u001b[0m\u001b[1;33m(\u001b[0m\u001b[0moutput_path\u001b[0m\u001b[1;33m)\u001b[0m\u001b[1;33m:\u001b[0m\u001b[1;33m\u001b[0m\u001b[1;33m\u001b[0m\u001b[0m\n\u001b[0m\u001b[0;32m      7\u001b[0m         \u001b[1;32mwith\u001b[0m \u001b[0mopen\u001b[0m\u001b[1;33m(\u001b[0m\u001b[0moutput_path\u001b[0m\u001b[1;33m,\u001b[0m \u001b[1;34m'w+'\u001b[0m\u001b[1;33m)\u001b[0m \u001b[1;32mas\u001b[0m \u001b[0mf\u001b[0m\u001b[1;33m:\u001b[0m\u001b[1;33m\u001b[0m\u001b[1;33m\u001b[0m\u001b[0m\n\u001b[0;32m      8\u001b[0m             \u001b[1;32mfor\u001b[0m \u001b[0mi\u001b[0m \u001b[1;32min\u001b[0m \u001b[0mrange\u001b[0m\u001b[1;33m(\u001b[0m\u001b[0mlen\u001b[0m\u001b[1;33m(\u001b[0m\u001b[0mkey_vector\u001b[0m\u001b[1;33m)\u001b[0m\u001b[1;33m)\u001b[0m\u001b[1;33m:\u001b[0m\u001b[1;33m\u001b[0m\u001b[1;33m\u001b[0m\u001b[0m\n",
      "\u001b[1;32mc:\\users\\administrator\\appdata\\local\\programs\\python\\python37\\lib\\genericpath.py\u001b[0m in \u001b[0;36mexists\u001b[1;34m(path)\u001b[0m\n\u001b[0;32m     17\u001b[0m     \u001b[1;34m\"\"\"Test whether a path exists.  Returns False for broken symbolic links\"\"\"\u001b[0m\u001b[1;33m\u001b[0m\u001b[1;33m\u001b[0m\u001b[0m\n\u001b[0;32m     18\u001b[0m     \u001b[1;32mtry\u001b[0m\u001b[1;33m:\u001b[0m\u001b[1;33m\u001b[0m\u001b[1;33m\u001b[0m\u001b[0m\n\u001b[1;32m---> 19\u001b[1;33m         \u001b[0mos\u001b[0m\u001b[1;33m.\u001b[0m\u001b[0mstat\u001b[0m\u001b[1;33m(\u001b[0m\u001b[0mpath\u001b[0m\u001b[1;33m)\u001b[0m\u001b[1;33m\u001b[0m\u001b[1;33m\u001b[0m\u001b[0m\n\u001b[0m\u001b[0;32m     20\u001b[0m     \u001b[1;32mexcept\u001b[0m \u001b[0mOSError\u001b[0m\u001b[1;33m:\u001b[0m\u001b[1;33m\u001b[0m\u001b[1;33m\u001b[0m\u001b[0m\n\u001b[0;32m     21\u001b[0m         \u001b[1;32mreturn\u001b[0m \u001b[1;32mFalse\u001b[0m\u001b[1;33m\u001b[0m\u001b[1;33m\u001b[0m\u001b[0m\n",
      "\u001b[1;31mKeyboardInterrupt\u001b[0m: "
     ]
    }
   ],
   "source": [
    "if __name__ == \"__main__\":\n",
    "\n",
    "    input_path = r'C:\\Users\\Administrator\\Desktop\\DocumentCleanup\\data\\01-DocumentCleanup\\noisy_data'\n",
    "    output_path = r'C:\\Users\\Administrator\\Desktop\\DocumentCleanup\\data\\Csvs\\testing_features'\n",
    "    \n",
    "    images = os.listdir(input_path)\n",
    "    already_done_files = os.listdir(output_path)\n",
    "    \n",
    "    for k in range(0, len(already_done_files)):\n",
    "        already_done_files[k] = already_done_files[k][:-4]\n",
    "    \n",
    "    for file_name in images:     #Looping for each testing image\n",
    "        \n",
    "        if file_name[:-4] in already_done_files:\n",
    "            \n",
    "            print(file_name, ' already Done')\n",
    "        else:\n",
    "            \n",
    "            final_input_path = input_path+'\\\\'+file_name\n",
    "            final_output_path = output_path+'\\\\'+file_name[:-4]+'.csv' #Removing '.png' an including '.csv'\n",
    "\n",
    "            img = cv2.imread(final_input_path, 0)\n",
    "            extractor(img, final_output_path)\n",
    "            \n",
    "    print('Done!!')\n",
    "    \n"
   ]
  },
  {
   "cell_type": "code",
   "execution_count": null,
   "metadata": {},
   "outputs": [],
   "source": []
  },
  {
   "cell_type": "code",
   "execution_count": null,
   "metadata": {},
   "outputs": [],
   "source": []
  }
 ],
 "metadata": {
  "kernelspec": {
   "display_name": "Python 3",
   "language": "python",
   "name": "python3"
  },
  "language_info": {
   "codemirror_mode": {
    "name": "ipython",
    "version": 3
   },
   "file_extension": ".py",
   "mimetype": "text/x-python",
   "name": "python",
   "nbconvert_exporter": "python",
   "pygments_lexer": "ipython3",
   "version": "3.7.4"
  }
 },
 "nbformat": 4,
 "nbformat_minor": 2
}
