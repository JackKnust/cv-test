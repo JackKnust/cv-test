{
 "cells": [
  {
   "cell_type": "code",
   "execution_count": 1,
   "metadata": {},
   "outputs": [],
   "source": [
    "import numpy as np\n",
    "import cv2\n",
    "from matplotlib import pyplot as plt\n",
    "import math\n",
    "import os\n",
    "from scipy import ndimage\n",
    "import pandas as pd"
   ]
  },
  {
   "cell_type": "code",
   "execution_count": 2,
   "metadata": {},
   "outputs": [],
   "source": [
    "def create_img(result, output_path, w, h, sample):\n",
    "    \n",
    "    blank_image = np.zeros(shape=[h, w], dtype=np.uint8)\n",
    "    aux = 0\n",
    "    \n",
    "    for y in range(0, h):\n",
    "        for x in range(0, w):\n",
    "\n",
    "            if(result['Label'][aux]==0):\n",
    "                blank_image[y][x] = 0\n",
    "            else:\n",
    "                blank_image[y][x] = 255\n",
    "\n",
    "            aux = aux + 1\n",
    "    \n",
    "    #out = output_path+'\\\\'+sample\n",
    "    cv2.imwrite(output_path, blank_image)\n",
    "    cv2.waitKey(0)\n",
    "    \n",
    "    \n",
    "    #rotate(blank_image, output_path)\n",
    "  "
   ]
  },
  {
   "cell_type": "code",
   "execution_count": 3,
   "metadata": {},
   "outputs": [],
   "source": [
    "def rotate(img, output_path):\n",
    "    \n",
    "    img = cv2.medianBlur(img,5)\n",
    "    #gray = cv2.cvtColor(image, cv2.COLOR_BGR2GRAY)\n",
    "    #gray = cv2.bitwise_not(gray)\n",
    "    ret,th1 = cv2.threshold(img,170,255,cv2.THRESH_BINARY)\n",
    "    \n",
    "    cv2.imshow('a', img)\n",
    "    cv2.waitKey(0)\n",
    "    \n",
    "    img_edges = cv2.Canny(th1, 100, 100, apertureSize=3)\n",
    "    lines = cv2.HoughLinesP(img_edges, 1, math.pi / 180.0, 100, minLineLength=10, maxLineGap=20)\n",
    "    angles = []\n",
    "\n",
    "    for x1, y1, x2, y2 in lines[0]:\n",
    "        cv2.line(th1, (x1, y1), (x2, y2), (255, 0, 0), 3)\n",
    "        angle = math.degrees(math.atan2(y2 - y1, x2 - x1))\n",
    "        angles.append(angle)\n",
    "\n",
    "    median_angle = np.median(angles)\n",
    "    #img_rotated = ndimage.rotate(image, median_angle)\n",
    "\n",
    "    (h, w) = image.shape[:2]\n",
    "    center = (w // 2, h // 2)\n",
    "\n",
    "    M = cv2.getRotationMatrix2D(center, median_angle, 1.0)\n",
    "    rotated = cv2.warpAffine(image, M, (w, h), flags=cv2.INTER_CUBIC, borderMode=cv2.BORDER_REPLICATE)\n",
    "    \n",
    "    cv2.imwrite(output_path, rotated)\n",
    "    cv2.waitKey(0)\n",
    "    cv2.destroyAllWindows()"
   ]
  },
  {
   "cell_type": "code",
   "execution_count": 4,
   "metadata": {},
   "outputs": [],
   "source": [
    "if __name__ == \"__main__\":\n",
    "\n",
    "    original_input_path = r'C:\\Users\\Administrator\\Desktop\\DocumentCleanup\\data\\01-DocumentCleanup\\noisy_data'\n",
    "    predctions_input_path = r'C:\\Users\\Administrator\\Desktop\\DocumentCleanup\\data\\Predictions'\n",
    "    binary_output_path = r'C:\\Users\\Administrator\\Desktop\\DocumentCleanup\\Binary_Images'\n",
    "\n",
    "    testing_samples = os.listdir(predctions_input_path)\n",
    "\n",
    "    for sample in testing_samples:\n",
    "\n",
    "        original_img = cv2.imread(original_input_path+'\\\\'+sample[:-4]+'.png') #reading the original image to measure dimension\n",
    "        (h, w) = original_img.shape[:2] \n",
    "\n",
    "        result = pd.read_csv(predctions_input_path+'\\\\'+sample, sep=',')\n",
    "\n",
    "        create_img(result, binary_output_path+'\\\\'+sample[:-4]+'.png', w, h, sample)"
   ]
  },
  {
   "cell_type": "code",
   "execution_count": null,
   "metadata": {},
   "outputs": [],
   "source": []
  },
  {
   "cell_type": "code",
   "execution_count": null,
   "metadata": {},
   "outputs": [],
   "source": []
  }
 ],
 "metadata": {
  "kernelspec": {
   "display_name": "Python 3",
   "language": "python",
   "name": "python3"
  },
  "language_info": {
   "codemirror_mode": {
    "name": "ipython",
    "version": 3
   },
   "file_extension": ".py",
   "mimetype": "text/x-python",
   "name": "python",
   "nbconvert_exporter": "python",
   "pygments_lexer": "ipython3",
   "version": "3.7.4"
  }
 },
 "nbformat": 4,
 "nbformat_minor": 2
}
